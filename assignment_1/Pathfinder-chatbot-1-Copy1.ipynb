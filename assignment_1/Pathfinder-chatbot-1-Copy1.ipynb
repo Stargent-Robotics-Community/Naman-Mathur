{
 "cells": [
  {
   "cell_type": "code",
   "execution_count": null,
   "id": "e5692040",
   "metadata": {},
   "outputs": [],
   "source": [
    "import pyttsx3 as pt"
   ]
  },
  {
   "cell_type": "code",
   "execution_count": null,
   "id": "d44df8ef",
   "metadata": {},
   "outputs": [],
   "source": [
    "import speech_recognition as sr"
   ]
  },
  {
   "cell_type": "code",
   "execution_count": null,
   "id": "d867d0b3",
   "metadata": {},
   "outputs": [],
   "source": [
    "import pyaudio\n",
    "import webbrowser\n",
    "import datetime"
   ]
  },
  {
   "cell_type": "code",
   "execution_count": null,
   "id": "f6531d7e",
   "metadata": {},
   "outputs": [],
   "source": [
    "engine = pt.init() "
   ]
  },
  {
   "cell_type": "code",
   "execution_count": null,
   "id": "c2c82c0c",
   "metadata": {},
   "outputs": [],
   "source": [
    "def speak(input) :\n",
    "    print(input)\n",
    "    engine.say(input)\n",
    "    engine.runAndWait()\n",
    "    voices = engine.getProperty('voices')\n",
    "    engine.setProperty('voice',voices[1].id)\n",
    "    rate = engine.getProperty('rate')\n",
    "    engine.setProperty('rate',150)\n",
    "\n",
    "speak(\"Hello! there my name is Zenith.. I am here as a guide to your freshmen year ! and at the same time i can help you out to chill as well!!.\")\n",
    "\n",
    "def inp():\n",
    "    r = sr.Recognizer()\n",
    "    with sr.Microphone() as source:\n",
    "        \n",
    "        print(\"Listening...\")\n",
    "        r.adjust_for_ambient_noise(source)\n",
    "        r.pause_threshold = 1\n",
    "        audio = r.listen(source)\n",
    "    \n",
    "    try:\n",
    "        text= r.recognize_google(audio)\n",
    "        print(text)\n",
    "    except:\n",
    "        print(\"Happy to help!! Thanks for using me\")\n",
    "        speak(\"Happy to help!! Thanks for using me\")\n",
    "    return text\n",
    "\n",
    "      \n",
    "while True:\n",
    "    text=inp().lower()\n",
    "    \n",
    "    if text==\"hello\":\n",
    "        print(\"Hello, how are you?\")\n",
    "        speak(\"Heyy Let's start discussion what all to do in your freshmen year!\" \"What is your current Branch?\")\n",
    "    \n",
    "    elif text==(\"cs\"):\n",
    "        print(\"Yayy!! I am ready to help you \")\n",
    "        speak(\"Yayy!! I am ready to help you so as to continue , just say continue \")\n",
    "    elif text==(\"it\"):\n",
    "        print(\"Yayy!! I am ready to help you \")\n",
    "        speak(\"Yayy!! I am ready to help you so as to continue , just say continue  \")\n",
    "    elif text==(\"ai\"):\n",
    "        print(\"Yayy!! I am ready to help you \")\n",
    "        speak(\"Yayy!! I am ready to help you so as to continue , just say continue  \")           \n",
    "    elif text==(\"electrical\"):\n",
    "        print(\"I am really sorry\")\n",
    "        speak(\"I am really sorry I can not help you with your core branch , but if you want some advice on the software side we can continue! just say continue and if you don't just don't speak anything \")\n",
    "    elif text==(\"civil\"):\n",
    "        print(\"I am really sorry\")\n",
    "        speak(\"I am really sorry I can not help you with your core branch , but if you want some advice on the software side we can continue! just say continue and if you don't just don't speak anything \")\n",
    "    elif text==(\"mechanical\"):\n",
    "        print(\"I am really sorry\")\n",
    "        speak(\"I am really sorry I can not help you with your core branch , but if you want some advice on the software side we can continue! just say continue and if you don't just don't speak anything \")\n",
    "    elif text==(\"continue\"):\n",
    "        print(\"we have a number of paths to follow up... but since this is your first year , I just want you to explore everything yourself ! just say ok wheather you are satisfied or unsatisfied\")\n",
    "        speak(\"we have a number of paths to follow up... but since this is your first year , I just want you to explore everything yourself !! just say ok wheather you are satisfied or unsatisfied\")\n",
    "    elif text==(\"ok\"):\n",
    "        print(\"If you were satisfied with me don't say anything but if not you can help me to improve by contacting people at STARGENT\")\n",
    "        speak(\"If you were satisfied with me that's cool ! don't say anything , but if are not , you can help me to improve by contacting people at STARGENT. Till then I can help you with knowing the date and time and even , opening apps like youtube , google and alot more. Give it a try by saying open google , and others the same way!\")\n",
    "    elif text==(\"open youtube\"):\n",
    "        webbrowser.open(\"youtube.com\")\n",
    "\n",
    "    elif text==(\"open google\"):\n",
    "        webbrowser.open(\"google.com\")\n",
    "\n",
    "    elif text==(\"the time\"):\n",
    "        strTime = datetime.datetime.now().strftime(\"%H:%M:%S\")    \n",
    "        speak(f\"The current time is {strTime}\")\n",
    "    else: \n",
    "        print(\"sorry try again \")\n",
    "        speak(\"sorry try again \")\n",
    "      \n",
    "\n"
   ]
  },
  {
   "cell_type": "code",
   "execution_count": null,
   "id": "8c46ac0e",
   "metadata": {},
   "outputs": [],
   "source": [
    "\n"
   ]
  },
  {
   "cell_type": "code",
   "execution_count": null,
   "id": "f8851214",
   "metadata": {},
   "outputs": [],
   "source": []
  },
  {
   "cell_type": "code",
   "execution_count": null,
   "id": "5ba42f07",
   "metadata": {},
   "outputs": [],
   "source": []
  },
  {
   "cell_type": "code",
   "execution_count": null,
   "id": "4be3eaca",
   "metadata": {},
   "outputs": [],
   "source": []
  }
 ],
 "metadata": {
  "kernelspec": {
   "display_name": "Python 3",
   "language": "python",
   "name": "python3"
  },
  "language_info": {
   "codemirror_mode": {
    "name": "ipython",
    "version": 3
   },
   "file_extension": ".py",
   "mimetype": "text/x-python",
   "name": "python",
   "nbconvert_exporter": "python",
   "pygments_lexer": "ipython3",
   "version": "3.8.8"
  }
 },
 "nbformat": 4,
 "nbformat_minor": 5
}
