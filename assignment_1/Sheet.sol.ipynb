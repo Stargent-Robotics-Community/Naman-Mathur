{
 "cells": [
  {
   "cell_type": "code",
   "execution_count": 2,
   "id": "f108e209",
   "metadata": {},
   "outputs": [],
   "source": [
    "mylist = [\"indian-idol\" , \"pokemon\" , \"naruto\" ,\"disaster\"]"
   ]
  },
  {
   "cell_type": "code",
   "execution_count": 4,
   "id": "100459e7",
   "metadata": {},
   "outputs": [
    {
     "name": "stdout",
     "output_type": "stream",
     "text": [
      "['indian-idol', 'pokemon', 'naruto', 'disaster']\n"
     ]
    }
   ],
   "source": [
    "print(mylist)"
   ]
  },
  {
   "cell_type": "code",
   "execution_count": 14,
   "id": "55ff5c0b",
   "metadata": {},
   "outputs": [
    {
     "name": "stdout",
     "output_type": "stream",
     "text": [
      "tmkoc\n",
      "cid\n",
      "['indian-idol', 'pokemon', 'naruto', 'disaster', 'tmkoc', 'cid']\n"
     ]
    }
   ],
   "source": [
    "mylist = [\"indian-idol\" , \"pokemon\" , \"naruto\" ,\"disaster\"]\n",
    "for i in range(0,2):\n",
    "     nex = input()\n",
    "     mylist.append(nex)\n",
    "print(mylist)"
   ]
  },
  {
   "cell_type": "code",
   "execution_count": 16,
   "id": "5e7bbfb8",
   "metadata": {},
   "outputs": [
    {
     "name": "stdout",
     "output_type": "stream",
     "text": [
      "['pokemon', 'disaster', 'cid']\n"
     ]
    }
   ],
   "source": [
    "print(mylist[1:6:2])"
   ]
  },
  {
   "cell_type": "code",
   "execution_count": null,
   "id": "5b796782",
   "metadata": {},
   "outputs": [],
   "source": []
  },
  {
   "cell_type": "code",
   "execution_count": 6,
   "id": "b6d782f8",
   "metadata": {},
   "outputs": [],
   "source": [
    "tot=0\n",
    "i=0\n",
    "mylist = [1,2,3,4,5]\n",
    "while(i<len(mylist)):\n",
    "    tot = tot + mylist[i]\n",
    "    i += 1"
   ]
  },
  {
   "cell_type": "code",
   "execution_count": 9,
   "id": "6d0a82c3",
   "metadata": {},
   "outputs": [
    {
     "name": "stdout",
     "output_type": "stream",
     "text": [
      "total = 15\n"
     ]
    }
   ],
   "source": [
    "print(\"total =\" , tot)"
   ]
  },
  {
   "cell_type": "code",
   "execution_count": 10,
   "id": "b0aafe12",
   "metadata": {},
   "outputs": [
    {
     "name": "stdout",
     "output_type": "stream",
     "text": [
      "1\r\n",
      "12\r\n",
      "123\r\n",
      "1234\r\n",
      "12345\r\n"
     ]
    }
   ],
   "source": [
    "for i in range(0,5):\n",
    "    n=1\n",
    "    for j in range(0,i+1):\n",
    "        print(n, end=\"\")\n",
    "        n += 1 \n",
    "    print(\"\\r\")"
   ]
  }
 ],
 "metadata": {
  "kernelspec": {
   "display_name": "Python 3",
   "language": "python",
   "name": "python3"
  },
  "language_info": {
   "codemirror_mode": {
    "name": "ipython",
    "version": 3
   },
   "file_extension": ".py",
   "mimetype": "text/x-python",
   "name": "python",
   "nbconvert_exporter": "python",
   "pygments_lexer": "ipython3",
   "version": "3.8.8"
  }
 },
 "nbformat": 4,
 "nbformat_minor": 5
}
